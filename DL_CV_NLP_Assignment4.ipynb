{
 "cells": [
  {
   "cell_type": "markdown",
   "metadata": {},
   "source": [
    "### DLCVNLP Assignment 4"
   ]
  },
  {
   "cell_type": "markdown",
   "metadata": {},
   "source": [
    "#### Question 1.1"
   ]
  },
  {
   "cell_type": "markdown",
   "metadata": {},
   "source": [
    "1.1 \n",
    "Write a Python Program(with class concepts) to find the area of the triangle using the below formula.   \n",
    "area = (s*(s-a)*(s-b)*(s-c)) * * 0.5   \n",
    "Function to take the length of the sides of triangle from user should be defined in the parent class   \n",
    "and function to calculate the area should be defined in subclass."
   ]
  },
  {
   "cell_type": "code",
   "execution_count": 19,
   "metadata": {},
   "outputs": [],
   "source": [
    "class Triangle:\n",
    "    def getLengthOfSides(self):\n",
    "        try:\n",
    "            self.side1 = int(input('Enter length of 1st side : '))\n",
    "            self.side2 = int(input('Enter length of 2nd side : '))\n",
    "            self.side3 = int(input('Enter length of 3rd side : '))\n",
    "        except:\n",
    "            print('Enter only integers')\n",
    "        \n",
    "    def __str__(self):\n",
    "        return \"This is triangle class\"\n",
    "    "
   ]
  },
  {
   "cell_type": "code",
   "execution_count": 20,
   "metadata": {},
   "outputs": [],
   "source": [
    "class AreaOfTrianle(Triangle):\n",
    "        \n",
    "    def calculate_area(self):\n",
    "        s = (self.side1 + self.side2 + self.side3 ) / 2  #Semi perimeter\n",
    "        area = ( s*(s-self.side1)*(s-self.side2)*(s-self.side3) )**0.5\n",
    "        return area"
   ]
  },
  {
   "cell_type": "code",
   "execution_count": 27,
   "metadata": {},
   "outputs": [],
   "source": [
    "t = AreaOfTrianle()"
   ]
  },
  {
   "cell_type": "code",
   "execution_count": 28,
   "metadata": {},
   "outputs": [
    {
     "name": "stdout",
     "output_type": "stream",
     "text": [
      "Enter length of 1st side : 3\n",
      "Enter length of 2nd side : 4\n",
      "Enter length of 3rd side : 5\n"
     ]
    }
   ],
   "source": [
    "t.getLengthOfSides()"
   ]
  },
  {
   "cell_type": "code",
   "execution_count": 29,
   "metadata": {},
   "outputs": [
    {
     "data": {
      "text/plain": [
       "6.0"
      ]
     },
     "execution_count": 29,
     "metadata": {},
     "output_type": "execute_result"
    }
   ],
   "source": [
    "t.calculate_area()"
   ]
  },
  {
   "cell_type": "markdown",
   "metadata": {},
   "source": [
    "#### Question 1.2"
   ]
  },
  {
   "cell_type": "markdown",
   "metadata": {},
   "source": [
    "1.2    \n",
    "Write a function filter_long_words() that takes a list of words and an integer n and returns the list of words that are longer than n."
   ]
  },
  {
   "cell_type": "code",
   "execution_count": 30,
   "metadata": {},
   "outputs": [],
   "source": [
    "words = [\"I\", \"am\", \"Chandra\", \"shekar\", \"MCC,\", \"Iam\", \"not\", \"going\", \"tohelp\", \"yououtsoon,\", \"toomuch\"]\n",
    "\n",
    "def filter_long_words(low, n):\n",
    "    output = []\n",
    "    for i in low:\n",
    "        if len(i) > n:\n",
    "            output.append(i)\n",
    "    \n",
    "    return output\n"
   ]
  },
  {
   "cell_type": "code",
   "execution_count": 31,
   "metadata": {},
   "outputs": [
    {
     "data": {
      "text/plain": [
       "['Chandra', 'shekar', 'MCC,', 'going', 'tohelp', 'yououtsoon,', 'toomuch']"
      ]
     },
     "execution_count": 31,
     "metadata": {},
     "output_type": "execute_result"
    }
   ],
   "source": [
    "filter_long_words(words, 3)"
   ]
  },
  {
   "cell_type": "code",
   "execution_count": 32,
   "metadata": {},
   "outputs": [
    {
     "data": {
      "text/plain": [
       "['Chandra',\n",
       " 'shekar',\n",
       " 'MCC,',\n",
       " 'Iam',\n",
       " 'not',\n",
       " 'going',\n",
       " 'tohelp',\n",
       " 'yououtsoon,',\n",
       " 'toomuch']"
      ]
     },
     "execution_count": 32,
     "metadata": {},
     "output_type": "execute_result"
    }
   ],
   "source": [
    "filter_long_words(words, 2)"
   ]
  },
  {
   "cell_type": "markdown",
   "metadata": {},
   "source": [
    "#### Question 2.1"
   ]
  },
  {
   "cell_type": "markdown",
   "metadata": {},
   "source": [
    "2.1    \n",
    "Write a Python program using function concept that maps list of words into a list of integers representing the lengths of the corresponding words.    \n",
    "Hint: If a list [ ab,cde,erty] is passed on to the python function output should come as [2,3,4]   \n",
    "Here 2,3 and 4 are the lengths of the words in the list."
   ]
  },
  {
   "cell_type": "code",
   "execution_count": 33,
   "metadata": {},
   "outputs": [],
   "source": [
    "def return_len_of_words(word_list):\n",
    "    word_lengths = []\n",
    "    if type(word_list) != list:\n",
    "        print('Error: Should pass list object')\n",
    "        return word_lengths\n",
    "\n",
    "    for i in word_list:\n",
    "        word_lengths.append(len(i))\n",
    "        \n",
    "    return word_lengths\n"
   ]
  },
  {
   "cell_type": "code",
   "execution_count": 34,
   "metadata": {},
   "outputs": [],
   "source": [
    "words = [\"I\", \"am\", \"Chandra\", \"shekar\", \"MCC,\", \"Iam\", \"not\", \"going\", \"tohelp\", \"yououtsoon,\", \"toomuch\"]"
   ]
  },
  {
   "cell_type": "code",
   "execution_count": 35,
   "metadata": {},
   "outputs": [
    {
     "data": {
      "text/plain": [
       "[1, 2, 7, 6, 4, 3, 3, 5, 6, 11, 7]"
      ]
     },
     "execution_count": 35,
     "metadata": {},
     "output_type": "execute_result"
    }
   ],
   "source": [
    "return_len_of_words(words)"
   ]
  },
  {
   "cell_type": "markdown",
   "metadata": {},
   "source": [
    "#### Question 2.2"
   ]
  },
  {
   "cell_type": "markdown",
   "metadata": {},
   "source": [
    "2.2    \n",
    "Write a Python function which takes a character (i.e. a string of length 1) and returns True if it is a vowel, False otherwise."
   ]
  },
  {
   "cell_type": "code",
   "execution_count": 36,
   "metadata": {},
   "outputs": [],
   "source": [
    "def is_vowel(c):\n",
    "    if len(c) > 1:\n",
    "        print(\"Error: Pass one character string to this function\")\n",
    "        return False\n",
    "    vowels = ['a', 'e', 'i', 'o', 'u']\n",
    "    if c in vowels:\n",
    "        return True\n",
    "    else:\n",
    "        return False"
   ]
  },
  {
   "cell_type": "code",
   "execution_count": 37,
   "metadata": {},
   "outputs": [
    {
     "data": {
      "text/plain": [
       "False"
      ]
     },
     "execution_count": 37,
     "metadata": {},
     "output_type": "execute_result"
    }
   ],
   "source": [
    "is_vowel('k')"
   ]
  },
  {
   "cell_type": "code",
   "execution_count": 38,
   "metadata": {},
   "outputs": [
    {
     "data": {
      "text/plain": [
       "True"
      ]
     },
     "execution_count": 38,
     "metadata": {},
     "output_type": "execute_result"
    }
   ],
   "source": [
    "is_vowel('u')"
   ]
  },
  {
   "cell_type": "code",
   "execution_count": null,
   "metadata": {},
   "outputs": [],
   "source": []
  }
 ],
 "metadata": {
  "kernelspec": {
   "display_name": "Python 3",
   "language": "python",
   "name": "python3"
  },
  "language_info": {
   "codemirror_mode": {
    "name": "ipython",
    "version": 3
   },
   "file_extension": ".py",
   "mimetype": "text/x-python",
   "name": "python",
   "nbconvert_exporter": "python",
   "pygments_lexer": "ipython3",
   "version": "3.7.7"
  }
 },
 "nbformat": 4,
 "nbformat_minor": 4
}
