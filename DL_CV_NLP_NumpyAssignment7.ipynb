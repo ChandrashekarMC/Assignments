{
 "cells": [
  {
   "cell_type": "markdown",
   "metadata": {},
   "source": [
    "## Course:DL_CV_NLP, Topic:Numpy, Assignment 7"
   ]
  },
  {
   "cell_type": "markdown",
   "metadata": {},
   "source": [
    "#### Question 1"
   ]
  },
  {
   "cell_type": "markdown",
   "metadata": {},
   "source": [
    "Write a function so that the columns of the output matrix are powers of the input vector.   \n",
    "The order of the powers is determined by the increasing boolean argument.    \n",
    "Specifically, when increasing is False, the i-th output column is the input vector raised element-wise to the power of N - i - 1.   \n",
    "    \n",
    "HINT: Such a matrix with a geometric progression in each row is named for Alexandre-Theophile Vandermonde.   "
   ]
  },
  {
   "cell_type": "code",
   "execution_count": 1,
   "metadata": {},
   "outputs": [],
   "source": [
    "import numpy as np"
   ]
  },
  {
   "cell_type": "code",
   "execution_count": 2,
   "metadata": {},
   "outputs": [],
   "source": [
    "def alex_vander_matrix(inp_vector, N, increasing=False):\n",
    "    if increasing == False:\n",
    "        power = [x for x in range(N-1,-1,-1)]\n",
    "        output_list = [a**b for a in inp_vector for b in power]\n",
    "        alex_vander_matrix = np.array(output_list).reshape(len(inp_vector), -1)\n",
    "\n",
    "        return alex_vander_matrix\n",
    "    \n",
    "    else:\n",
    "        print('This function is not defined for increasing case')\n",
    "        return None"
   ]
  },
  {
   "cell_type": "code",
   "execution_count": 3,
   "metadata": {},
   "outputs": [
    {
     "data": {
      "text/plain": [
       "array([[ 16,   8,   4,   2,   1],\n",
       "       [ 81,  27,   9,   3,   1],\n",
       "       [625, 125,  25,   5,   1]])"
      ]
     },
     "execution_count": 3,
     "metadata": {},
     "output_type": "execute_result"
    }
   ],
   "source": [
    "alex_vander_matrix([2,3,5], 5)"
   ]
  },
  {
   "cell_type": "code",
   "execution_count": 4,
   "metadata": {},
   "outputs": [
    {
     "data": {
      "text/plain": [
       "array([[ 1,  1,  1,  1],\n",
       "       [ 8,  4,  2,  1],\n",
       "       [27,  9,  3,  1],\n",
       "       [64, 16,  4,  1]])"
      ]
     },
     "execution_count": 4,
     "metadata": {},
     "output_type": "execute_result"
    }
   ],
   "source": [
    "alex_vander_matrix([1,2,3,4], 4)"
   ]
  },
  {
   "cell_type": "markdown",
   "metadata": {},
   "source": [
    "#### Question 2"
   ]
  },
  {
   "cell_type": "markdown",
   "metadata": {},
   "source": [
    "**Problem Statement :**\n",
    "Given a sequence of n values x1, x2, ..., xn and a window size k>0,   \n",
    "the k-th moving average of the given sequence is defined as follows:    \n",
    "   \n",
    "The moving average sequence has n-k+1 elements as shown below.    \n",
    "The moving averages with k=4 of a ten-value sequence (n=10) is shown below     \n",
    "i 1 2 3 4 5 6 7 8 9 10     \n",
    "===== == == == == == == == == == ==    \n",
    "Input 10 20 30 40 50 60 70 80 90 100    \n",
    "y1 25 = (10+20+30+40)/4    \n",
    "y2 35 = (20+30+40+50)/4    \n",
    "y3 45 = (30+40+50+60)/4    \n",
    "y4 55 = (40+50+60+70)/4    \n",
    "y5 65 = (50+60+70+80)/4    \n",
    "y6 75 = (60+70+80+90)/4    \n",
    "y7 85 = (70+80+90+100)/4    "
   ]
  },
  {
   "cell_type": "markdown",
   "metadata": {},
   "source": [
    "Thus, the moving average sequence has n-k+1=10-4+1=7 values.   \n"
   ]
  },
  {
   "cell_type": "code",
   "execution_count": 54,
   "metadata": {},
   "outputs": [],
   "source": [
    "def moving_avg(arr, window):\n",
    "    if type(arr) != list and type(arr) != np.ndarray:\n",
    "        print('Wrong 1st argument')\n",
    "        return None\n",
    "    if type(window) != int:\n",
    "        print('Wrong 2nd argument')\n",
    "        return None\n",
    "    \n",
    "    if window > len(arr):\n",
    "        print('Error: window size should be greater than or equal to array length')\n",
    "        return None\n",
    "    \n",
    "    nparr = np.asarray(arr)\n",
    "    avg_lst = []\n",
    "    for i in range(0, len(arr)-window+1):\n",
    "        newarr = nparr[i:i+window]\n",
    "        avg_lst.append(np.sum(newarr)/window)\n",
    "        \n",
    "    return avg_lst\n",
    "    "
   ]
  },
  {
   "cell_type": "markdown",
   "metadata": {},
   "source": [
    "#### Test 1"
   ]
  },
  {
   "cell_type": "code",
   "execution_count": 55,
   "metadata": {},
   "outputs": [
    {
     "data": {
      "text/plain": [
       "[4.25, 5.5, 6.75]"
      ]
     },
     "execution_count": 55,
     "metadata": {},
     "output_type": "execute_result"
    }
   ],
   "source": [
    "moving_avg([3, 5, 7, 2, 8, 10], 4)"
   ]
  },
  {
   "cell_type": "markdown",
   "metadata": {},
   "source": [
    "#### Test 2"
   ]
  },
  {
   "cell_type": "code",
   "execution_count": 58,
   "metadata": {},
   "outputs": [
    {
     "data": {
      "text/plain": [
       "[55.0, 64.2, 70.4, 75.0, 68.2, 57.8, 55.0]"
      ]
     },
     "execution_count": 58,
     "metadata": {},
     "output_type": "execute_result"
    }
   ],
   "source": [
    "a = np.array([44,56,32,56,87,90,87,55,22,35,76])\n",
    "moving_avg(a, window=5)"
   ]
  },
  {
   "cell_type": "markdown",
   "metadata": {},
   "source": [
    "#### Test 3"
   ]
  },
  {
   "cell_type": "code",
   "execution_count": 56,
   "metadata": {},
   "outputs": [
    {
     "name": "stdout",
     "output_type": "stream",
     "text": [
      "Error: window size should be greater than or equal to array length\n"
     ]
    }
   ],
   "source": [
    "moving_avg([3, 5, 7, 2], 5)"
   ]
  },
  {
   "cell_type": "markdown",
   "metadata": {},
   "source": [
    "    \n",
    "**Question:**  Write a function to find moving average in an array over a window:    \n",
    "Test it over [3, 5, 7, 2, 8, 10, 11, 65, 72, 81, 99, 100, 150] and window of 3.    "
   ]
  },
  {
   "cell_type": "code",
   "execution_count": 60,
   "metadata": {},
   "outputs": [
    {
     "data": {
      "text/plain": [
       "[5.0,\n",
       " 4.666666666666667,\n",
       " 5.666666666666667,\n",
       " 6.666666666666667,\n",
       " 9.666666666666666,\n",
       " 28.666666666666668,\n",
       " 49.333333333333336,\n",
       " 72.66666666666667,\n",
       " 84.0,\n",
       " 93.33333333333333,\n",
       " 116.33333333333333]"
      ]
     },
     "execution_count": 60,
     "metadata": {},
     "output_type": "execute_result"
    }
   ],
   "source": [
    "moving_avg(arr= [3, 5, 7, 2, 8, 10, 11, 65, 72, 81, 99, 100, 150], window=3)"
   ]
  },
  {
   "cell_type": "code",
   "execution_count": null,
   "metadata": {},
   "outputs": [],
   "source": []
  }
 ],
 "metadata": {
  "kernelspec": {
   "display_name": "Python 3",
   "language": "python",
   "name": "python3"
  },
  "language_info": {
   "codemirror_mode": {
    "name": "ipython",
    "version": 3
   },
   "file_extension": ".py",
   "mimetype": "text/x-python",
   "name": "python",
   "nbconvert_exporter": "python",
   "pygments_lexer": "ipython3",
   "version": "3.7.7"
  }
 },
 "nbformat": 4,
 "nbformat_minor": 4
}
